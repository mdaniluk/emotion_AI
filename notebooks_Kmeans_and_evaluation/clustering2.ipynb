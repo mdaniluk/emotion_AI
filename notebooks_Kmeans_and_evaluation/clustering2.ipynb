{
 "cells": [
  {
   "cell_type": "code",
   "execution_count": 2,
   "metadata": {
    "collapsed": true
   },
   "outputs": [],
   "source": [
    "import pandas as pd\n",
    "import datetime as dt\n",
    "\n",
    "import random\n",
    "import math\n",
    "\n",
    "import numpy as np\n",
    "import matplotlib.pyplot as plt\n",
    "from mpl_toolkits.mplot3d import Axes3D\n",
    "\n",
    "from sklearn.cluster import KMeans\n",
    "from sklearn import datasets\n",
    "\n",
    "import tsne"
   ]
  },
  {
   "cell_type": "code",
   "execution_count": 3,
   "metadata": {
    "collapsed": true
   },
   "outputs": [],
   "source": [
    "path1='features_total.csv'\n"
   ]
  },
  {
   "cell_type": "code",
   "execution_count": 4,
   "metadata": {
    "collapsed": false
   },
   "outputs": [],
   "source": [
    "features = pd.read_csv(path1)\n"
   ]
  },
  {
   "cell_type": "code",
   "execution_count": 5,
   "metadata": {
    "collapsed": false
   },
   "outputs": [],
   "source": [
    "#generate dataframe with all the datas\n",
    "winning_points=pd.DataFrame(columns=features.columns)\n",
    "losing_points=pd.DataFrame(columns=features.columns)\n",
    "winning_points_michal=pd.DataFrame(columns=features.columns)\n",
    "winning_points_thomas=pd.DataFrame(columns=features.columns)\n",
    "losing_points_michal=pd.DataFrame(columns=features.columns)\n",
    "losing_points_thomas=pd.DataFrame(columns=features.columns)\n",
    "for i in range(len(features)-1):\n",
    "    element=features[features['id']==i+1]\n",
    "    if element.empty==False:\n",
    "        if element['winner'].values[0]==1:       \n",
    "            winning_points.loc[len(winning_points)]=element.values[0]\n",
    "            if element['player'].values[0]=='michal':\n",
    "                winning_points_michal.loc[len(winning_points_michal)]=element.values[0]\n",
    "            else:\n",
    "                winning_points_thomas.loc[len(winning_points_thomas)]=element.values[0]\n",
    "        else:\n",
    "            losing_points.loc[len(losing_points)]=element.values[0]\n",
    "            if element['player'].values[0]=='michal':\n",
    "                losing_points_michal.loc[len(losing_points_michal)]=element.values[0]\n",
    "            else:\n",
    "                losing_points_thomas.loc[len(losing_points_thomas)]=element.values[0]\n",
    "        "
   ]
  },
  {
   "cell_type": "code",
   "execution_count": 33,
   "metadata": {
    "collapsed": false
   },
   "outputs": [],
   "source": [
    "#defining X=features\n",
    "X = losing_points.copy()\n",
    "X = X.drop('id',1)\n",
    "X=X.drop('winner',1)\n",
    "X=X.drop('player',1)\n",
    "#X = X.drop('Match',1)\n",
    "#X = X.drop('winner',1)\n",
    "#defining X=label (1=won,0=lost)\n",
    "Y = features['winner']"
   ]
  },
  {
   "cell_type": "code",
   "execution_count": 40,
   "metadata": {
    "collapsed": false
   },
   "outputs": [
    {
     "name": "stdout",
     "output_type": "stream",
     "text": [
      "[[ -1.15611837e-01   1.85377288e+01   7.41921409e+00 ...,  -8.68616138e-01\n",
      "    2.01568531e+00   1.19370092e+00]\n",
      " [ -2.16271587e-01   2.54114788e+01   5.26921409e+00 ...,  -1.82069663e+00\n",
      "    5.05307490e+00   2.45038316e+00]\n",
      " [ -9.03096213e-03   9.39827563e+00   1.35921409e+00 ...,  -4.16673930e-01\n",
      "    5.45669302e+00   2.00406063e+00]\n",
      " ..., \n",
      " [  6.77977468e-05  -1.41359170e+01  -1.64164026e+01 ...,  -1.02495540e+01\n",
      "    1.57459480e+00  -5.29243423e+00]\n",
      " [ -5.72327253e-04  -7.27274795e+01  -1.09164026e+01 ...,  -2.35262989e+00\n",
      "    3.85483971e+00   1.58162207e+00]\n",
      " [ -7.32327253e-04   8.70923928e+00   2.83359743e+00 ...,  -2.39213261e+00\n",
      "    1.57129455e+00  -1.93154887e+00]]\n"
     ]
    }
   ],
   "source": [
    "#defining estimator: number of clusters:4 if winner (want to imprive, happy, excited, doesnt care), 3 if loser (frustrated, \n",
    "#doesnt care, annoyed)\n",
    "print(X.values)\n",
    "est = KMeans(n_clusters=4)\n",
    "est.fit(X.values)\n",
    "labels = est.labels_"
   ]
  },
  {
   "cell_type": "code",
   "execution_count": 41,
   "metadata": {
    "collapsed": false
   },
   "outputs": [
    {
     "data": {
      "text/plain": [
       "array([1, 1, 1, 1, 1, 1, 1, 0, 1, 0, 1, 1, 0, 1, 1, 3, 1, 1, 3, 0, 3, 0, 0,\n",
       "       3, 3, 1, 1, 1, 0, 0, 1, 1, 1, 1, 1, 1, 1, 1, 1, 0, 3, 2, 2, 0, 2, 0,\n",
       "       0, 2, 1, 0, 2, 0, 1, 1, 1, 1, 0, 0, 3, 3, 0, 0, 3, 1, 1, 1, 3, 0, 3,\n",
       "       0, 0, 3, 2, 3, 0, 0, 3, 3, 3, 0, 3, 2, 3, 0, 1, 1, 1, 1, 1, 1, 1, 1,\n",
       "       1, 1, 0, 1, 1, 3, 3, 0, 3, 3, 1, 1, 1, 0, 0, 1, 1, 1, 1, 1, 1, 1, 1,\n",
       "       1, 1, 1, 1, 3, 0, 0, 0, 3, 1, 0, 2, 1, 0, 0, 0, 0, 1, 1, 1, 1, 1, 1,\n",
       "       1, 1, 1, 1, 1, 0, 1, 1, 1, 1, 1, 1, 3, 2, 0, 0, 0, 3, 0, 0, 0, 3, 0,\n",
       "       3, 3], dtype=int32)"
      ]
     },
     "execution_count": 41,
     "metadata": {},
     "output_type": "execute_result"
    }
   ],
   "source": [
    "labels"
   ]
  },
  {
   "cell_type": "code",
   "execution_count": 39,
   "metadata": {
    "collapsed": false
   },
   "outputs": [
    {
     "name": "stdout",
     "output_type": "stream",
     "text": [
      "13\n",
      "92\n",
      "58\n",
      "0\n"
     ]
    }
   ],
   "source": [
    "labels2 = list(labels)\n",
    "print(labels2.count(0))\n",
    "print(labels2.count(1))\n",
    "print(labels2.count(2))\n",
    "print(labels2.count(3))\n"
   ]
  },
  {
   "cell_type": "code",
   "execution_count": 31,
   "metadata": {
    "collapsed": false
   },
   "outputs": [
    {
     "data": {
      "text/plain": [
       "<matplotlib.collections.PathCollection at 0x7f1e227aa890>"
      ]
     },
     "execution_count": 31,
     "metadata": {},
     "output_type": "execute_result"
    }
   ],
   "source": [
    "colors = ['g' if d == 0 else 'b' if d==1 else 'r' if d==2 else 'y' for d in labels]\n",
    "\n",
    "Y = tsne.bh_sne(X)\n",
    "plt.scatter(Y[:,0], Y[:,1], c=colors)"
   ]
  },
  {
   "cell_type": "code",
   "execution_count": 32,
   "metadata": {
    "collapsed": false
   },
   "outputs": [
    {
     "name": "stdout",
     "output_type": "stream",
     "text": [
      "      id  cluster\n",
      "0      1        3\n",
      "1      6        3\n",
      "2     11        3\n",
      "3     13        0\n",
      "4     16        3\n",
      "5     17        0\n",
      "6     20        3\n",
      "7     21        3\n",
      "8     22        0\n",
      "9     25        3\n",
      "10    30        0\n",
      "11    31        0\n",
      "12    32        0\n",
      "13    33        1\n",
      "14    35        0\n",
      "15    36        1\n",
      "16    37        1\n",
      "17    38        0\n",
      "18    40        0\n",
      "19    42        1\n",
      "20    43        0\n",
      "21    46        3\n",
      "22    47        0\n",
      "23    51        1\n",
      "24    52        1\n",
      "25    60        3\n",
      "26    61        3\n",
      "27    62        3\n",
      "28    64        3\n",
      "29    65        3\n",
      "..   ...      ...\n",
      "119  258        0\n",
      "120  259        0\n",
      "121  260        1\n",
      "122  261        1\n",
      "123  264        3\n",
      "124  265        3\n",
      "125  266        3\n",
      "126  267        3\n",
      "127  269        3\n",
      "128  270        3\n",
      "129  273        3\n",
      "130  275        3\n",
      "131  277        3\n",
      "132  278        1\n",
      "133  282        3\n",
      "134  285        0\n",
      "135  287        3\n",
      "136  294        2\n",
      "137  295        1\n",
      "138  300        1\n",
      "139  303        2\n",
      "140  304        0\n",
      "141  306        1\n",
      "142  308        0\n",
      "143  311        0\n",
      "144  312        1\n",
      "145  313        2\n",
      "146  315        1\n",
      "147  316        0\n",
      "148  318        3\n",
      "\n",
      "[149 rows x 2 columns]\n"
     ]
    }
   ],
   "source": [
    "columns=['id','cluster']\n",
    "points_cluster=pd.DataFrame(columns=columns)\n",
    "for i in range(len(X)):\n",
    "    points_cluster.loc[len(points_cluster)]=[winning_points.loc[i]['id'],labels[i]]\n",
    "print(points_cluster)\n",
    "points_cluster.to_csv('winning_points')\n",
    "    "
   ]
  },
  {
   "cell_type": "code",
   "execution_count": 57,
   "metadata": {
    "collapsed": false
   },
   "outputs": [
    {
     "name": "stdout",
     "output_type": "stream",
     "text": [
      "     id  majority_label\n",
      "0   203               1\n",
      "1   205               2\n",
      "2   206               1\n",
      "3   208               1\n",
      "4   210               1\n",
      "5   216               2\n",
      "6   221               2\n",
      "7   225               0\n",
      "8   227               0\n",
      "9   229               1\n",
      "10  230               2\n",
      "11  234               0\n",
      "12  239               1\n",
      "13  242               1\n",
      "14  243               1\n",
      "15  245               1\n",
      "16  247               2\n",
      "17  248               2\n",
      "18  252               1\n",
      "19  253               2\n",
      "20  263               1\n",
      "21  268               1\n",
      "22  271               0\n",
      "23  274               1\n",
      "24  276               0\n",
      "25  279               1\n",
      "26  280               1\n",
      "27  281               1\n",
      "28  283               2\n",
      "29  284               2\n",
      "30  288               0\n",
      "31  290               0\n",
      "32  291               0\n",
      "33  292               0\n",
      "34  293               0\n",
      "35  296               2\n",
      "36  298               1\n",
      "37  299               2\n",
      "38  301               0\n",
      "39  302               1\n",
      "40  305               0\n",
      "41  309               1\n",
      "42  310               1\n",
      "43  314               1\n",
      "44  317               2\n",
      "45  319               2\n"
     ]
    }
   ],
   "source": [
    "validation_set = pd.read_csv('validation_set.csv')\n",
    "#build label by majority of vote\n",
    "majority_label_losing=pd.DataFrame(columns=['id','majority_label'])\n",
    "majority_label_winning=pd.DataFrame(columns=['id','majority_label'])\n",
    "majority_label_losing_thomas=pd.DataFrame(columns=['id','majority_label'])\n",
    "majority_label_losing_michal=pd.DataFrame(columns=['id','majority_label'])\n",
    "majority_label_winning_thomas=pd.DataFrame(columns=['id','majority_label'])\n",
    "majority_label_winning_michal=pd.DataFrame(columns=['id','majority_label'])\n",
    "\n",
    "\n",
    "\n",
    "score={}\n",
    "\n",
    "for i in range(len(validation_set)):\n",
    "    score[0]=0\n",
    "    score[1]=0\n",
    "    score[2]=0\n",
    "    score[3]=0\n",
    "    score[validation_set.loc[i]['thomas']]+=1\n",
    "    score[validation_set.loc[i]['michal']]+=1\n",
    "    score[validation_set.loc[i]['hipo']]+=1\n",
    "    max=0\n",
    "    index=0\n",
    "    for j in range(4):\n",
    "        if score[j]>max: \n",
    "            index=j\n",
    "            \n",
    "    if validation_set.loc[i]['winner']==1:\n",
    "        majority_label_winning.loc[len(majority_label_winning)]=[validation_set.loc[i]['id'],index]\n",
    "        if validation_set.loc[i]['michal']:\n",
    "            majority_label_winning_michal.loc[len(majority_label_winning_michal)]=[validation_set.loc[i]['id'],index]\n",
    "        else:\n",
    "            majority_label_winning_thomas.loc[len(majority_label_winning_thomas)]=[validation_set.loc[i]['id'],index]\n",
    "    else:\n",
    "        majority_label_losing.loc[len(majority_label_losing)]=[validation_set.loc[i]['id'],index]\n",
    "        if validation_set.loc[i]['michal']:\n",
    "            majority_label_losing_michal.loc[len(majority_label_losing_michal)]=[validation_set.loc[i]['id'],index]\n",
    "        else:\n",
    "            majority_label_losing_thomas.loc[len(majority_label_losing_thomas)]=[validation_set.loc[i]['id'],index]\n",
    "        \n",
    "            \n",
    "print(majority_label_losing_thomas)"
   ]
  },
  {
   "cell_type": "code",
   "execution_count": null,
   "metadata": {
    "collapsed": true
   },
   "outputs": [],
   "source": []
  },
  {
   "cell_type": "code",
   "execution_count": null,
   "metadata": {
    "collapsed": true
   },
   "outputs": [],
   "source": []
  }
 ],
 "metadata": {
  "kernelspec": {
   "display_name": "Python 2",
   "language": "python",
   "name": "python2"
  },
  "language_info": {
   "codemirror_mode": {
    "name": "ipython",
    "version": 2
   },
   "file_extension": ".py",
   "mimetype": "text/x-python",
   "name": "python",
   "nbconvert_exporter": "python",
   "pygments_lexer": "ipython2",
   "version": "2.7.11"
  }
 },
 "nbformat": 4,
 "nbformat_minor": 0
}
