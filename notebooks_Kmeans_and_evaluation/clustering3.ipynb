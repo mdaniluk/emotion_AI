{
 "cells": [
  {
   "cell_type": "code",
   "execution_count": 93,
   "metadata": {
    "collapsed": true
   },
   "outputs": [],
   "source": [
    "import pandas as pd\n",
    "import datetime as dt\n",
    "\n",
    "import random\n",
    "import math\n",
    "\n",
    "import numpy as np\n",
    "import matplotlib.pyplot as plt\n",
    "from mpl_toolkits.mplot3d import Axes3D\n",
    "\n",
    "from sklearn.cluster import KMeans\n",
    "from sklearn import datasets"
   ]
  },
  {
   "cell_type": "code",
   "execution_count": 424,
   "metadata": {
    "collapsed": true
   },
   "outputs": [],
   "source": [
    "path0='features_reduced.csv'#both winners and losers points\n",
    "path1='features_reduced_winner.csv'\n",
    "path2='features_reduced_loser.csv'\n",
    "#path1='michal-win.csv'\n",
    "#path2='michal-loss.csv'\n",
    "#path3='thomas-win.csv'\n",
    "#path4='thomas-loss.csv'\n",
    "#path5='both-win.csv'\n",
    "#path6='both-loss.csv'"
   ]
  },
  {
   "cell_type": "code",
   "execution_count": 425,
   "metadata": {
    "collapsed": false
   },
   "outputs": [],
   "source": [
    "features = pd.read_csv(path0)"
   ]
  },
  {
   "cell_type": "code",
   "execution_count": 426,
   "metadata": {
    "collapsed": false
   },
   "outputs": [],
   "source": [
    "#defining X=features\n",
    "X = features.copy()\n",
    "#X = X.drop('Point',1)\n",
    "#X = X.drop('Match',1)\n",
    "X = X.drop('player',1)\n",
    "X = X.drop('winner',1)\n",
    "X = X.drop('id',1)\n",
    "X = X.drop('label',1)\n",
    "#defining X=label (1=won,0=lost)\n",
    "Y = features['label']"
   ]
  },
  {
   "cell_type": "code",
   "execution_count": 427,
   "metadata": {
    "collapsed": false
   },
   "outputs": [
    {
     "data": {
      "text/html": [
       "<div>\n",
       "<table border=\"1\" class=\"dataframe\">\n",
       "  <thead>\n",
       "    <tr style=\"text-align: right;\">\n",
       "      <th></th>\n",
       "      <th>EDA_mean</th>\n",
       "      <th>BVP_mean</th>\n",
       "      <th>HR_mean</th>\n",
       "      <th>EDA_std</th>\n",
       "      <th>BVP_std</th>\n",
       "      <th>HR_std</th>\n",
       "      <th>head_ty_max</th>\n",
       "      <th>head_ty_min</th>\n",
       "      <th>head_rx_max</th>\n",
       "      <th>head_ry_max</th>\n",
       "      <th>chest_ty_min</th>\n",
       "      <th>chest_ty_max</th>\n",
       "      <th>hand_L_ty_min</th>\n",
       "      <th>hand_L_ty_max</th>\n",
       "      <th>hand_L_y_vel_max</th>\n",
       "      <th>hand_R_ty_min</th>\n",
       "      <th>hand_R_ty_max</th>\n",
       "      <th>hand_R_y_vel_max</th>\n",
       "    </tr>\n",
       "  </thead>\n",
       "  <tbody>\n",
       "    <tr>\n",
       "      <th>0</th>\n",
       "      <td>-0.220634</td>\n",
       "      <td>11.077121</td>\n",
       "      <td>-6.395609</td>\n",
       "      <td>0.045889</td>\n",
       "      <td>19.776791</td>\n",
       "      <td>0.335</td>\n",
       "      <td>-0.650</td>\n",
       "      <td>1.78</td>\n",
       "      <td>1.81</td>\n",
       "      <td>1.85</td>\n",
       "      <td>-0.946</td>\n",
       "      <td>1.74</td>\n",
       "      <td>-0.463</td>\n",
       "      <td>0.217</td>\n",
       "      <td>0.232</td>\n",
       "      <td>-0.178</td>\n",
       "      <td>1.68</td>\n",
       "      <td>0.442</td>\n",
       "    </tr>\n",
       "    <tr>\n",
       "      <th>1</th>\n",
       "      <td>-0.211512</td>\n",
       "      <td>45.713840</td>\n",
       "      <td>-2.265609</td>\n",
       "      <td>0.033481</td>\n",
       "      <td>27.635122</td>\n",
       "      <td>0.015</td>\n",
       "      <td>-0.961</td>\n",
       "      <td>1.93</td>\n",
       "      <td>2.23</td>\n",
       "      <td>2.16</td>\n",
       "      <td>-0.988</td>\n",
       "      <td>1.75</td>\n",
       "      <td>-0.493</td>\n",
       "      <td>0.301</td>\n",
       "      <td>-0.335</td>\n",
       "      <td>-4.860</td>\n",
       "      <td>1.92</td>\n",
       "      <td>-2.350</td>\n",
       "    </tr>\n",
       "  </tbody>\n",
       "</table>\n",
       "</div>"
      ],
      "text/plain": [
       "   EDA_mean   BVP_mean   HR_mean   EDA_std    BVP_std  HR_std  head_ty_max  \\\n",
       "0 -0.220634  11.077121 -6.395609  0.045889  19.776791   0.335       -0.650   \n",
       "1 -0.211512  45.713840 -2.265609  0.033481  27.635122   0.015       -0.961   \n",
       "\n",
       "   head_ty_min  head_rx_max  head_ry_max  chest_ty_min  chest_ty_max  \\\n",
       "0         1.78         1.81         1.85        -0.946          1.74   \n",
       "1         1.93         2.23         2.16        -0.988          1.75   \n",
       "\n",
       "   hand_L_ty_min  hand_L_ty_max  hand_L_y_vel_max  hand_R_ty_min  \\\n",
       "0         -0.463          0.217             0.232         -0.178   \n",
       "1         -0.493          0.301            -0.335         -4.860   \n",
       "\n",
       "   hand_R_ty_max  hand_R_y_vel_max  \n",
       "0           1.68             0.442  \n",
       "1           1.92            -2.350  "
      ]
     },
     "execution_count": 427,
     "metadata": {},
     "output_type": "execute_result"
    }
   ],
   "source": [
    "X.head(2)"
   ]
  },
  {
   "cell_type": "code",
   "execution_count": 428,
   "metadata": {
    "collapsed": true
   },
   "outputs": [],
   "source": [
    "#defining estimator: number of clusters:3 if winner (happy, excited, doesnt care), 3 if loser (frustrated, \n",
    "#doesnt care, annoyed)\n",
    "est = KMeans(n_clusters=5)\n",
    "est.fit(X)\n",
    "labels = est.labels_"
   ]
  },
  {
   "cell_type": "code",
   "execution_count": 429,
   "metadata": {
    "collapsed": false
   },
   "outputs": [
    {
     "data": {
      "text/plain": [
       "array([1, 1, 1, 1, 4, 1, 4, 1, 1, 1, 4, 1, 4, 1, 1, 1, 1, 1, 1, 1, 1, 1, 1,\n",
       "       1, 1, 1, 1, 1, 1, 1, 0, 2, 0, 0, 4, 0, 1, 4, 0, 0, 4, 2, 1, 4, 0, 3,\n",
       "       1, 4, 4, 3, 4, 4, 3, 4, 0, 4, 4, 4, 0, 0, 1, 1, 1, 1, 1, 1, 1, 1, 1,\n",
       "       1, 1, 1, 1, 1, 1, 1, 0, 1, 1, 1, 1, 1, 4, 4, 1, 1, 3, 2, 2, 0, 4, 0,\n",
       "       0, 2, 0, 2, 4, 0, 0, 0, 0, 2, 4, 4, 2, 2, 2, 0, 4, 0, 1, 0])"
      ]
     },
     "execution_count": 429,
     "metadata": {},
     "output_type": "execute_result"
    }
   ],
   "source": [
    "labels"
   ]
  },
  {
   "cell_type": "code",
   "execution_count": 430,
   "metadata": {
    "collapsed": true
   },
   "outputs": [],
   "source": [
    "labels2 = list(labels)"
   ]
  },
  {
   "cell_type": "code",
   "execution_count": 431,
   "metadata": {
    "collapsed": false
   },
   "outputs": [
    {
     "name": "stdout",
     "output_type": "stream",
     "text": [
      "22\n",
      "53\n",
      "10\n"
     ]
    }
   ],
   "source": [
    "labels = list(labels)\n",
    "print(labels.count(0))\n",
    "print(labels.count(1))\n",
    "print(labels.count(2))\n",
    "#print(labels.count(3))"
   ]
  },
  {
   "cell_type": "code",
   "execution_count": 432,
   "metadata": {
    "collapsed": false
   },
   "outputs": [],
   "source": [
    "Y=Y-1"
   ]
  },
  {
   "cell_type": "code",
   "execution_count": 433,
   "metadata": {
    "collapsed": false
   },
   "outputs": [
    {
     "name": "stdout",
     "output_type": "stream",
     "text": [
      "45\n",
      "10\n",
      "16\n"
     ]
    }
   ],
   "source": [
    "Y = list(Y)\n",
    "print(Y.count(0))\n",
    "print(Y.count(1))\n",
    "print(Y.count(2))\n",
    "#print(labels.count(3))"
   ]
  },
  {
   "cell_type": "markdown",
   "metadata": {
    "collapsed": true
   },
   "source": [
    "COMPARING CLUSTERS VS REALITY"
   ]
  },
  {
   "cell_type": "code",
   "execution_count": 434,
   "metadata": {
    "collapsed": true
   },
   "outputs": [],
   "source": [
    "#creating dataframe for cluster labels-->from k-means outpu\n",
    "index_ = features.index\n",
    "columns_ = ['label']\n",
    "k_means_df = pd.DataFrame(index=index_, columns=columns_)\n",
    "k_means_df['label']=labels\n",
    "\n",
    "#creating dataframe for cluster labels-->from reality\n",
    "index_ = features.index\n",
    "columns_ = ['label']\n",
    "reality_df = pd.DataFrame(index=index_, columns=columns_)\n",
    "reality_df['label']=Y"
   ]
  },
  {
   "cell_type": "code",
   "execution_count": 435,
   "metadata": {
    "collapsed": false
   },
   "outputs": [],
   "source": [
    "obs=reality_df.shape[0]\n",
    "\n",
    "#matrix values will be 1 if pair of obsevations belong to the same group, and 0 otherwise\n",
    "\n",
    "#matrix for reality\n",
    "reality_grid=np.zeros((obs,obs))\n",
    "for i in range(0,obs):\n",
    "    for j in range(0,obs):\n",
    "        if reality_df['label'].ix[i]==reality_df['label'].ix[j]:\n",
    "            reality_grid[i,j]=1\n",
    "            \n",
    "#matrix for k-means result\n",
    "k_means_grid=np.zeros((obs,obs))\n",
    "for i in range(0,obs):\n",
    "    for j in range(0,obs):\n",
    "        if k_means_df['label'].ix[i]==k_means_df['label'].ix[j]:\n",
    "            k_means_grid[i,j]=1        \n",
    "    \n",
    "    \n"
   ]
  },
  {
   "cell_type": "code",
   "execution_count": 436,
   "metadata": {
    "collapsed": true
   },
   "outputs": [],
   "source": [
    "diff=k_means_grid*reality_grid"
   ]
  },
  {
   "cell_type": "code",
   "execution_count": 437,
   "metadata": {
    "collapsed": false
   },
   "outputs": [
    {
     "name": "stdout",
     "output_type": "stream",
     "text": [
      "1400.0\n"
     ]
    }
   ],
   "source": [
    "matches=sum(sum(diff))\n",
    "print(matches)"
   ]
  },
  {
   "cell_type": "code",
   "execution_count": 438,
   "metadata": {
    "collapsed": false
   },
   "outputs": [
    {
     "name": "stdout",
     "output_type": "stream",
     "text": [
      "0.326075949367\n"
     ]
    }
   ],
   "source": [
    "matches=(matches-obs)/2#removing symetric values\n",
    "total_obs=(sum(sum(reality_grid))-obs)/2#total number of grouped pair of points\n",
    "match_ratio=matches/total_obs\n",
    "print(match_ratio)\n"
   ]
  },
  {
   "cell_type": "code",
   "execution_count": null,
   "metadata": {
    "collapsed": true
   },
   "outputs": [],
   "source": []
  },
  {
   "cell_type": "code",
   "execution_count": null,
   "metadata": {
    "collapsed": true
   },
   "outputs": [],
   "source": []
  }
 ],
 "metadata": {
  "kernelspec": {
   "display_name": "Python 3",
   "language": "python",
   "name": "python3"
  },
  "language_info": {
   "codemirror_mode": {
    "name": "ipython",
    "version": 3
   },
   "file_extension": ".py",
   "mimetype": "text/x-python",
   "name": "python",
   "nbconvert_exporter": "python",
   "pygments_lexer": "ipython3",
   "version": "3.5.1"
  }
 },
 "nbformat": 4,
 "nbformat_minor": 0
}
